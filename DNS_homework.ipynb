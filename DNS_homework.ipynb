{
 "cells": [
  {
   "cell_type": "code",
   "execution_count": 2,
   "metadata": {},
   "outputs": [
    {
     "name": "stdout",
     "output_type": "stream",
     "text": [
      "101.37.113.127[error]\n",
      "114.55.205.139[error]\n"
     ]
    }
   ],
   "source": [
    "import dns.resolver\n",
    "import os\n",
    "import http.client\n",
    "iplist=[]\n",
    "appdomain='www.cnblogs.com'\n",
    "def get_iplist(domain=\"\"):\n",
    "    try:\n",
    "        A=dns.resolver.query(domain,'A')\n",
    "    except Exception as e:\n",
    "        return print('dns resolver error:'+str(e))\n",
    "        \n",
    "    for i in A.response.answer:\n",
    "        for j in i.items :\n",
    "            iplist.append(j)\n",
    "    return True\n",
    "def checkip(ip):\n",
    "    checkurl=str(ip)+str(\":\")\n",
    "    getcontent=''\n",
    "    http.client.socket.setdefaulttimeout(5)\n",
    "    conn=http.client.HTTPConnection(checkurl)\n",
    "    try:\n",
    "        conn.request('GET','/',headers={'Host':appdomain})\n",
    "        r=conn.getresponse()\n",
    "        getcontent=r.read(15)\n",
    "    finally:\n",
    "        if getcontent=='<!doctype html>':\n",
    "            print(str(ip)+'[ok]')\n",
    "        else:\n",
    "            print(str(ip)+'[error]')\n",
    "if __name__==\"__main__\":\n",
    "    if get_iplist(appdomain) and len(iplist)>0:\n",
    "        for ip in iplist:\n",
    "            checkip(ip)\n",
    "    else:\n",
    "        print(\"dns resolver error\")"
   ]
  },
  {
   "cell_type": "code",
   "execution_count": null,
   "metadata": {},
   "outputs": [],
   "source": []
  }
 ],
 "metadata": {
  "kernelspec": {
   "display_name": "Python 3",
   "language": "python",
   "name": "python3"
  },
  "toc": {
   "base_numbering": 1,
   "nav_menu": {},
   "number_sections": true,
   "sideBar": true,
   "skip_h1_title": false,
   "title_cell": "Table of Contents",
   "title_sidebar": "Contents",
   "toc_cell": false,
   "toc_position": {},
   "toc_section_display": true,
   "toc_window_display": false
  }
 },
 "nbformat": 4,
 "nbformat_minor": 2
}
