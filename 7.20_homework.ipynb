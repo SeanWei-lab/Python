{
 "cells": [
  {
   "cell_type": "markdown",
   "metadata": {},
   "source": [
    "1题"
   ]
  },
  {
   "cell_type": "code",
   "execution_count": 2,
   "metadata": {},
   "outputs": [
    {
     "name": "stdout",
     "output_type": "stream",
     "text": [
      "01    05    12    22    35    51    70    92    117   145   \n",
      "\n",
      "176   210   247   287   330   376   425   477   532   590   \n",
      "\n",
      "651   715   782   852   925   1001  1080  1162  1247  1335  \n",
      "\n",
      "1426  1520  1617  1717  1820  1926  2035  2147  2262  2380  \n",
      "\n",
      "2501  2625  2752  2882  3015  3151  3290  3432  3577  3725  \n",
      "\n",
      "3876  4030  4187  4347  4510  4676  4845  5017  5192  5370  \n",
      "\n",
      "5551  5735  5922  6112  6305  6501  6700  6902  7107  7315  \n",
      "\n",
      "7526  7740  7957  8177  8400  8626  8855  9087  9322  9560  \n",
      "\n",
      "9801  10045 10292 10542 10795 11051 11310 11572 11837 12105 \n",
      "\n",
      "12376 12650 12927 13207 13490 13776 14065 14357 14652 14950 \n",
      "\n"
     ]
    }
   ],
   "source": [
    "def five_num():\n",
    "    #五角数\n",
    "    f=0\n",
    "    c=0\n",
    "    for i in range(1,101):\n",
    "        f=i*(3*i-1)/2\n",
    "        print('%-5.2d '%(f),end=\"\")\n",
    "        c=c+1\n",
    "        if(c%10==0):\n",
    "            print('\\n')\n",
    "five_num()"
   ]
  },
  {
   "cell_type": "markdown",
   "metadata": {},
   "source": [
    "2题"
   ]
  },
  {
   "cell_type": "code",
   "execution_count": 3,
   "metadata": {},
   "outputs": [
    {
     "name": "stdout",
     "output_type": "stream",
     "text": [
      "234\n",
      "9\n"
     ]
    }
   ],
   "source": [
    "def sumDihits(n):\n",
    "    #3位数的各位之和\n",
    "    gewei=n%10\n",
    "    shiwei=n//10%10\n",
    "    baiwei=n//100\n",
    "    return print(gewei+shiwei+baiwei)\n",
    "n=int(input())\n",
    "sumDihits(n)"
   ]
  },
  {
   "cell_type": "markdown",
   "metadata": {},
   "source": [
    "3题"
   ]
  },
  {
   "cell_type": "code",
   "execution_count": 4,
   "metadata": {
    "scrolled": true
   },
   "outputs": [
    {
     "name": "stdout",
     "output_type": "stream",
     "text": [
      "输入三个整数： 3 2.4 5\n",
      "2.4 3.0 5.0\n"
     ]
    }
   ],
   "source": [
    "def displaySortewdNumbers(num1,num2,num3):\n",
    "    if(num1>num2):\n",
    "        if num2>num3:\n",
    "            return print(num3,num2,num1,sep=\" \")\n",
    "        else:\n",
    "            if num1>num3:\n",
    "                return print(num2,num3,num1,sep=\" \")\n",
    "            else:\n",
    "                return print(num2,num1,num3,sep=\" \")\n",
    "    elif num1<num2:\n",
    "        if num2<num3:\n",
    "            return print(num1,num2,num3,sep=\" \")\n",
    "        else:\n",
    "            if num3>num1:\n",
    "                return print(num1,num3,num2,sep=\" \")\n",
    "            else:\n",
    "                return print(num3,num1,num2,sep=\" \")\n",
    "num1,num2,num3=map(float,input('输入三个整数： ').split())\n",
    "displaySortewdNumbers(num1,num2,num3)"
   ]
  },
  {
   "cell_type": "markdown",
   "metadata": {},
   "source": [
    "5题"
   ]
  },
  {
   "cell_type": "code",
   "execution_count": 8,
   "metadata": {},
   "outputs": [
    {
     "name": "stdout",
     "output_type": "stream",
     "text": [
      "1 2 3 4 5 6 7 8 9 : \n",
      "; < = > ? @ A B C D \n",
      "E F G H I J K L M N \n",
      "O P Q R S T U V W X \n",
      "Y Z "
     ]
    }
   ],
   "source": [
    "def printChars(ch1,ch2,number):\n",
    "    c=0\n",
    "    i=ord(ch1)\n",
    "    while i<=ord(ch2):\n",
    "        print(chr(i),end=\" \")\n",
    "        c+=1\n",
    "        if c%number==0:\n",
    "            print()\n",
    "        i+=1\n",
    "printChars('1','Z',10)\n",
    "        "
   ]
  },
  {
   "cell_type": "markdown",
   "metadata": {},
   "source": [
    "6题"
   ]
  },
  {
   "cell_type": "code",
   "execution_count": 5,
   "metadata": {},
   "outputs": [
    {
     "name": "stdout",
     "output_type": "stream",
     "text": [
      "2010年有365天\n",
      "2011年有365天\n",
      "2012年有366天\n",
      "2013年有365天\n",
      "2014年有365天\n",
      "2015年有365天\n",
      "2016年有366天\n",
      "2017年有365天\n",
      "2018年有365天\n",
      "2019年有365天\n"
     ]
    }
   ],
   "source": [
    "def numberOfDaysInAYear():\n",
    "    for year in range(2010,2020):\n",
    "        if year%400==0 or (year%4==0 and year%100!=0):\n",
    "            print('%d年有366天'%(year))\n",
    "        else:\n",
    "            print('%d年有365天'%(year)) \n",
    "numberOfDaysInAYear()"
   ]
  },
  {
   "cell_type": "markdown",
   "metadata": {},
   "source": [
    "7题"
   ]
  },
  {
   "cell_type": "code",
   "execution_count": 2,
   "metadata": {},
   "outputs": [
    {
     "name": "stdout",
     "output_type": "stream",
     "text": [
      "请输入两点坐标： 0 0 3 4\n",
      "5.0\n"
     ]
    }
   ],
   "source": [
    "import math\n",
    "def distance(x1,y1,x2,y2):\n",
    "    x3=x1-x2\n",
    "    y3=y1-y2\n",
    "    len=math.sqrt((x3**2)+(y3**2))\n",
    "    return print(len)\n",
    "x1,y1,x2,y2=map(int,input('请输入两点坐标： ').split())\n",
    "distance(x1,y1,x2,y2)"
   ]
  },
  {
   "cell_type": "markdown",
   "metadata": {},
   "source": [
    "8题"
   ]
  },
  {
   "cell_type": "code",
   "execution_count": 3,
   "metadata": {},
   "outputs": [
    {
     "name": "stdout",
     "output_type": "stream",
     "text": [
      "p        2^p-1\n",
      "2         3\n",
      "3         7\n",
      "5         31\n"
     ]
    }
   ],
   "source": [
    "import math\n",
    "def prime():\n",
    "    num=[]\n",
    "    i=2\n",
    "    for i in range(2,32):\n",
    "        j=2\n",
    "        for j in range(2,i):\n",
    "            if(i%j==0):\n",
    "                break\n",
    "        else:\n",
    "            num.append(i)\n",
    "    return num\n",
    "def misen():\n",
    "    print('p        2^p-1')\n",
    "    a=prime()\n",
    "    for p in range(1,32):\n",
    "        for i in range(11):\n",
    "            if (2**p)-1==a[i]:\n",
    "                print(\"%d         %d\" %(p,a[i]))\n",
    "misen()"
   ]
  },
  {
   "cell_type": "markdown",
   "metadata": {},
   "source": [
    "9题"
   ]
  },
  {
   "cell_type": "code",
   "execution_count": 4,
   "metadata": {},
   "outputs": [
    {
     "name": "stdout",
     "output_type": "stream",
     "text": [
      "本地时间为： Thu Aug  1 20:00:18 2019\n"
     ]
    }
   ],
   "source": [
    "import time\n",
    "localtime = time.asctime(time.localtime(time.time()))\n",
    "print('本地时间为：',localtime)"
   ]
  },
  {
   "cell_type": "markdown",
   "metadata": {},
   "source": [
    "10题"
   ]
  },
  {
   "cell_type": "code",
   "execution_count": 5,
   "metadata": {},
   "outputs": [
    {
     "name": "stdout",
     "output_type": "stream",
     "text": [
      "1 + 6 = 7\n",
      "你赢了\n"
     ]
    }
   ],
   "source": [
    "import random\n",
    "def shaizi():\n",
    "      a=random.choice([1,2,3,4,5,6])\n",
    "      b=random.choice([1,2,3,4,5,6])\n",
    "      if a+b==2 or  a+b==3 or a+b==12:\n",
    "            print('%d + %d = %d' %(a,b,a+b))\n",
    "            print('你输了')\n",
    "      elif a+b==7 or a+b==11:\n",
    "            print('%d + %d = %d' %(a,b,a+b))\n",
    "            print('你赢了')\n",
    "      else:\n",
    "            print('%d + %d = %d' %(a,b,a+b))\n",
    "            c=random.choice([1,2,3,4,5,6])\n",
    "            d=random.choice([1,2,3,4,5,6])\n",
    "            if c+d==7:\n",
    "                  print('%d + %d = %d' %(c,d,c+d))\n",
    "                  print('你输了')\n",
    "            elif c+d==a+b:\n",
    "                  print('%d + %d = %d' %(c,d,c+d))\n",
    "                  print('你赢了')\n",
    "shaizi()"
   ]
  }
 ],
 "metadata": {
  "kernelspec": {
   "display_name": "Python 3",
   "language": "python",
   "name": "python3"
  },
  "language_info": {
   "codemirror_mode": {
    "name": "ipython",
    "version": 3
   },
   "file_extension": ".py",
   "mimetype": "text/x-python",
   "name": "python",
   "nbconvert_exporter": "python",
   "pygments_lexer": "ipython3",
   "version": "3.7.3"
  },
  "toc": {
   "base_numbering": 1,
   "nav_menu": {},
   "number_sections": true,
   "sideBar": true,
   "skip_h1_title": false,
   "title_cell": "Table of Contents",
   "title_sidebar": "Contents",
   "toc_cell": false,
   "toc_position": {},
   "toc_section_display": true,
   "toc_window_display": false
  }
 },
 "nbformat": 4,
 "nbformat_minor": 2
}
