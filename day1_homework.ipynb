{
 "cells": [
  {
   "cell_type": "markdown",
   "metadata": {},
   "source": [
    "    1题"
   ]
  },
  {
   "cell_type": "code",
   "execution_count": 9,
   "metadata": {},
   "outputs": [
    {
     "name": "stdout",
     "output_type": "stream",
     "text": [
      "请输入摄氏度：43\n",
      "43 摄氏度是109 华氏度\n"
     ]
    }
   ],
   "source": [
    "c=float(input(\"请输入摄氏度：\"))\n",
    "f=(9/5)*c+32\n",
    "print(\"%d 摄氏度是%d 华氏度\" %(c,f))"
   ]
  },
  {
   "cell_type": "markdown",
   "metadata": {},
   "source": [
    "    2题"
   ]
  },
  {
   "cell_type": "code",
   "execution_count": 1,
   "metadata": {},
   "outputs": [
    {
     "name": "stdout",
     "output_type": "stream",
     "text": [
      "请输入圆柱的底面半径与高：5.5 12\n",
      "底面积为：95.0332\n",
      "体积为：1140.4\n"
     ]
    }
   ],
   "source": [
    "import math\n",
    "r,h=map(float,input(\"请输入圆柱的底面半径与高：\").split())\n",
    "area=r*r*math.pi\n",
    "volume=area*h\n",
    "print(\"底面积为：%.4f\" %(area))\n",
    "print(\"体积为：%.1f\" %(volume))"
   ]
  },
  {
   "cell_type": "markdown",
   "metadata": {},
   "source": [
    "    3题"
   ]
  },
  {
   "cell_type": "code",
   "execution_count": 3,
   "metadata": {},
   "outputs": [
    {
     "name": "stdout",
     "output_type": "stream",
     "text": [
      "请输入英尺数:16.5\n",
      "16英尺等于5.0325米\n"
     ]
    }
   ],
   "source": [
    "feet=float(input(\"请输入英尺数:\"))\n",
    "print(\"%d英尺等于%.4f米\"%(feet,feet*0.305) )"
   ]
  },
  {
   "cell_type": "markdown",
   "metadata": {},
   "source": [
    "    4题"
   ]
  },
  {
   "cell_type": "code",
   "execution_count": 5,
   "metadata": {},
   "outputs": [
    {
     "name": "stdout",
     "output_type": "stream",
     "text": [
      "请输入水量：55.5\n",
      "请输入初始温度：3.5\n",
      "请输入最终温度：10.5\n",
      "所需要的热量为：1625484.0\n"
     ]
    }
   ],
   "source": [
    "M=float(input(\"请输入水量：\"))\n",
    "it=float(input(\"请输入初始温度：\"))\n",
    "ft=float(input(\"请输入最终温度：\"))\n",
    "Q=M*(ft-it)*4184\n",
    "print(\"所需要的热量为：%.1f\"%(Q))"
   ]
  },
  {
   "cell_type": "markdown",
   "metadata": {},
   "source": [
    "    5题"
   ]
  },
  {
   "cell_type": "code",
   "execution_count": 8,
   "metadata": {},
   "outputs": [
    {
     "name": "stdout",
     "output_type": "stream",
     "text": [
      "请输入差额和年利率: 1000 3.5\n",
      "利息为：0.29167\n"
     ]
    }
   ],
   "source": [
    "balance,interest_rate=map(float,input(\"请输入差额和年利率: \").split())\n",
    "rate=balance*(interest_rate/12000)\n",
    "print(\"利息为：%.5f\"%(rate))"
   ]
  },
  {
   "cell_type": "markdown",
   "metadata": {},
   "source": [
    "    6题"
   ]
  },
  {
   "cell_type": "code",
   "execution_count": 10,
   "metadata": {},
   "outputs": [
    {
     "name": "stdout",
     "output_type": "stream",
     "text": [
      "请输入v0,v1和t:5.5,50.9,4.5\n",
      "加速度为： 10.0889\n"
     ]
    }
   ],
   "source": [
    "v0,v1,t=map(float,input(\"请输入v0,v1和t:\").split(\",\"))\n",
    "a=(v1-v0)/t\n",
    "print(\"加速度为： %.4f\"%(a))"
   ]
  },
  {
   "cell_type": "markdown",
   "metadata": {},
   "source": [
    "    7题"
   ]
  },
  {
   "cell_type": "code",
   "execution_count": 11,
   "metadata": {},
   "outputs": [
    {
     "name": "stdout",
     "output_type": "stream",
     "text": [
      "每月存入钱数：100\n",
      "第六月账户钱数： 608.818\n"
     ]
    }
   ],
   "source": [
    "money=float(input(\"每月存入钱数：\"))\n",
    "for i in range(6):\n",
    "    s=money*(1+0.00417)\n",
    "    money=100+s\n",
    "print(\"第六月账户钱数： %.3f\"%s)\n"
   ]
  },
  {
   "cell_type": "markdown",
   "metadata": {},
   "source": [
    "    8题"
   ]
  },
  {
   "cell_type": "code",
   "execution_count": 23,
   "metadata": {},
   "outputs": [
    {
     "name": "stdout",
     "output_type": "stream",
     "text": [
      "请输入一个0-1000的整数999\n",
      "输入数字各位之和为： 27\n"
     ]
    }
   ],
   "source": [
    "n=int(input(\"请输入一个0-1000的整数\"))\n",
    "baiwei=int(n//10/10)\n",
    "shiwei=n//10%10\n",
    "gewei=n%10\n",
    "print(\"输入数字各位之和为： %d\"%(baiwei+shiwei+gewei))"
   ]
  }
 ],
 "metadata": {
  "kernelspec": {
   "display_name": "Python 3",
   "language": "python",
   "name": "python3"
  },
  "language_info": {
   "codemirror_mode": {
    "name": "ipython",
    "version": 3
   },
   "file_extension": ".py",
   "mimetype": "text/x-python",
   "name": "python",
   "nbconvert_exporter": "python",
   "pygments_lexer": "ipython3",
   "version": "3.7.3"
  }
 },
 "nbformat": 4,
 "nbformat_minor": 2
}
