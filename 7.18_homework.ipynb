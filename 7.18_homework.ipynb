{
 "cells": [
  {
   "cell_type": "markdown",
   "metadata": {},
   "source": [
    "1题"
   ]
  },
  {
   "cell_type": "code",
   "execution_count": 1,
   "metadata": {
    "scrolled": true
   },
   "outputs": [
    {
     "name": "stdout",
     "output_type": "stream",
     "text": [
      "Enter a,b,c: 1.0 3 1\n",
      "-0.3820 -2.6180\n",
      "Enter a,b,c: 1 2.0 1\n",
      "-1.0\n",
      "Enter a,b,c: 1 2 3\n",
      "The equation has no real roots!\n"
     ]
    }
   ],
   "source": [
    "import math\n",
    "for i in range(0,3):\n",
    "    a,b,c=map(float,input('Enter a,b,c: ').split())\n",
    "    def panbie(x,y,z):#判别函数，返回float类型 P\n",
    "        p=y*y-4*x*z\n",
    "        return p\n",
    "    def suanR1(x,y,z):#计算第一个根的函数，返回float类型 R1\n",
    "        r1=(-y+math.sqrt(y*y-4*x*z))/2*x\n",
    "        return r1\n",
    "    def suanR2(x,y,z):#计算第二个根的函数，返回float类型 R2\n",
    "        r2=(-y-math.sqrt(y*y-4*x*z))/2*x\n",
    "        return r2\n",
    "    if panbie(a,b,c)>0:\n",
    "        print('%.4f %.4f'% (suanR1(a,b,c),suanR2(a,b,c)))\n",
    "    elif panbie(a,b,c)==0:\n",
    "        print(suanR1(a,b,c))\n",
    "    else:\n",
    "        print('The equation has no real roots!')"
   ]
  },
  {
   "cell_type": "markdown",
   "metadata": {},
   "source": [
    "2题"
   ]
  },
  {
   "cell_type": "code",
   "execution_count": 2,
   "metadata": {},
   "outputs": [
    {
     "name": "stdout",
     "output_type": "stream",
     "text": [
      "92,83\n",
      "请输入两个数的和：100\n",
      "False\n"
     ]
    }
   ],
   "source": [
    "import random\n",
    "def sum(x,y,z):\n",
    "    if z==x+y:\n",
    "        return True\n",
    "    else:\n",
    "        return False\n",
    "a=random.randrange(0,100)\n",
    "b=random.randrange(0,100)\n",
    "print(a,b,sep=\",\")\n",
    "c=int(input('请输入两个数的和：'))\n",
    "print(sum(a,b,c))"
   ]
  },
  {
   "cell_type": "markdown",
   "metadata": {},
   "source": [
    "3题"
   ]
  },
  {
   "cell_type": "code",
   "execution_count": 7,
   "metadata": {},
   "outputs": [
    {
     "name": "stdout",
     "output_type": "stream",
     "text": [
      "输入今天： 1\n",
      "输入将要过几天： 3\n",
      "今天再过3 天是星期四\n"
     ]
    }
   ],
   "source": [
    "def further(a,b):\n",
    "    c=(a+b)%7\n",
    "    if c==0:\n",
    "        return '星期日'\n",
    "    elif c==1:\n",
    "        return '星期一'\n",
    "    elif c==2:\n",
    "        return '星期二'\n",
    "    elif c==3:\n",
    "        return '星期三'\n",
    "    elif c==4:\n",
    "        return '星期四'\n",
    "    elif c==5:\n",
    "        return '星期五'\n",
    "    elif c==6:\n",
    "        return '星期六'\n",
    "day=int(input('输入今天： '))\n",
    "lastday=int(input('输入将要过几天： '))\n",
    "print('今天再过%d 天是%s'% (lastday,further(day,lastday)))"
   ]
  },
  {
   "cell_type": "markdown",
   "metadata": {},
   "source": [
    "4题"
   ]
  },
  {
   "cell_type": "code",
   "execution_count": 8,
   "metadata": {},
   "outputs": [
    {
     "name": "stdout",
     "output_type": "stream",
     "text": [
      "输入三个整数： 4 2 1\n",
      "1 2 4\n"
     ]
    }
   ],
   "source": [
    "def bidaxiao(x,y,z):\n",
    "    if(x>y):\n",
    "        if y>z:\n",
    "            return print(z,y,x,sep=\" \")\n",
    "        else:\n",
    "            if x>z:\n",
    "                return print(y,z,x,sep=\" \")\n",
    "            else:\n",
    "                return print(y,x,z,sep=\" \")\n",
    "    elif x<y:\n",
    "        if y<z:\n",
    "            return print(x,y,z,sep=\" \")\n",
    "        else:\n",
    "            if z>x:\n",
    "                return print(x,z,y,sep=\" \")\n",
    "            else:\n",
    "                return print(z,x,y,sep=\" \")\n",
    "a,b,c=map(int,input('输入三个整数： ').split())\n",
    "bidaxiao(a,b,c)"
   ]
  },
  {
   "cell_type": "markdown",
   "metadata": {},
   "source": [
    "5题"
   ]
  },
  {
   "cell_type": "code",
   "execution_count": 10,
   "metadata": {},
   "outputs": [
    {
     "name": "stdout",
     "output_type": "stream",
     "text": [
      "请输入第一种大米包装的重量与价格: 50 24.59\n",
      "请输入第二种大米包装的重量与价格: 25 11.99\n",
      "第二种便宜\n"
     ]
    }
   ],
   "source": [
    "def price(w1,p1,w2,p2):\n",
    "    p3=p1/w1\n",
    "    p4=p2/w2\n",
    "    if p3>p4:\n",
    "        return print('第二种便宜')\n",
    "    elif p3<p4:\n",
    "            return print('第一种便宜')\n",
    "    else:\n",
    "        return print('同样便宜')\n",
    "w1,p1=map(float,input('请输入第一种大米包装的重量与价格: ').split())\n",
    "w2,p2=map(float,input('请输入第二种大米包装的重量与价格: ').split())\n",
    "price(w1,p1,w2,p2)"
   ]
  },
  {
   "cell_type": "markdown",
   "metadata": {},
   "source": [
    "6题"
   ]
  },
  {
   "cell_type": "code",
   "execution_count": 11,
   "metadata": {},
   "outputs": [
    {
     "name": "stdout",
     "output_type": "stream",
     "text": [
      "请输入月份和年份： 1 2016\n",
      "2016 年 1 月 有31天\n"
     ]
    }
   ],
   "source": [
    "def panduan(month,year):\n",
    "    m1=[1,3,5,7,8,10,12]\n",
    "    m2=[4,6,9,11]\n",
    "    if year%400==0 or year%4==0 and year%100!=0:\n",
    "        if month in m1:\n",
    "            return print('%d 年 %d 月 有31天'%(year,month))\n",
    "        if month in m2:\n",
    "            return print('%d 年 %d 月 有30天'%(year,month))\n",
    "        if month==2:\n",
    "            return print('%d 年 %d 月 有29天'%(year,month))\n",
    "    else:\n",
    "        if month in m1:\n",
    "            return print('%d 年 %d 月 有31天'%(year,month))\n",
    "        if month in m2:\n",
    "            return print('%d 年 %d 月 有30天'%(year,month))\n",
    "        if month==2:\n",
    "            return print('%d 年 %d 月 有28天'%(year,month))\n",
    "month,year=map(int,input('请输入月份和年份： ').split())\n",
    "panduan(month,year)"
   ]
  },
  {
   "cell_type": "markdown",
   "metadata": {},
   "source": [
    "7题"
   ]
  },
  {
   "cell_type": "code",
   "execution_count": 12,
   "metadata": {},
   "outputs": [
    {
     "name": "stdout",
     "output_type": "stream",
     "text": [
      "请猜测是正面还是反面： 正面\n",
      "你猜错了，答案是反面\n"
     ]
    }
   ],
   "source": [
    "import random\n",
    "def zhengfan(icon):\n",
    "    a=random.choice(['正面','反面'])\n",
    "    if icon==a:\n",
    "        return print('你猜对了！')\n",
    "    else:\n",
    "        return print('你猜错了，答案是%s'%(a))\n",
    "icon=input('请猜测是正面还是反面： ')\n",
    "zhengfan(icon)"
   ]
  },
  {
   "cell_type": "markdown",
   "metadata": {},
   "source": [
    "8题"
   ]
  },
  {
   "cell_type": "code",
   "execution_count": 14,
   "metadata": {},
   "outputs": [
    {
     "name": "stdout",
     "output_type": "stream",
     "text": [
      "输入1，2或3: 2\n",
      "你赢了 3\n"
     ]
    }
   ],
   "source": [
    "import random\n",
    "def game(a):\n",
    "    while True:\n",
    "        b=random.choice(['1','2','3'])\n",
    "        if a=='1' and b=='1' or a=='2' and b=='2' or a=='3' and b=='3':\n",
    "            return print('平局',b)\n",
    "        elif a=='1' and b=='3' or a=='3' and b =='2' or a=='2' and b=='1':\n",
    "            return print('机器赢了',b)\n",
    "        elif a=='1' and b=='2' or a=='2' and b=='3' or a=='3' and b=='1':\n",
    "            return print('你赢了',b)\n",
    "        elif a=='exit':\n",
    "            break\n",
    "a=input('输入1，2或3: ')\n",
    "game(a)"
   ]
  },
  {
   "cell_type": "markdown",
   "metadata": {},
   "source": [
    "9题"
   ]
  },
  {
   "cell_type": "code",
   "execution_count": 15,
   "metadata": {},
   "outputs": [
    {
     "name": "stdout",
     "output_type": "stream",
     "text": [
      "请输入年份: 2016\n",
      "请输入月份: 1\n",
      "请输入天数: 25\n",
      "3\n",
      "Day of the week is Tuesday \n"
     ]
    }
   ],
   "source": [
    "def zele(year,month,day):\n",
    "    if month==1:\n",
    "        month = 13\n",
    "        year=year-1\n",
    "    if month==2:\n",
    "        month = 14\n",
    "        year=year-1\n",
    "    a1=26*(month+1)/10\n",
    "    k=year%100\n",
    "    j=year/100\n",
    "    h=int((day+a1+k+(k/4)+(j/4)+(5*j))%7)\n",
    "    print(h)\n",
    "    if h==0:\n",
    "        return print('Day of the week is Saturday ')\n",
    "    if h==1:\n",
    "        return print('Day of the week is Sunday ')\n",
    "    if h==2:\n",
    "        return print('Day of the week is Monday ')\n",
    "    if h==3:\n",
    "        return print('Day of the week is Tuesday ')\n",
    "    if h==4:\n",
    "        return print('Day of the week is Wednesday')\n",
    "    if h==5:\n",
    "        return print('Day of the week is Thursday ')\n",
    "    if h==6:\n",
    "        return print('Day of the week is Friday ')\n",
    "year=int(input('请输入年份: '))\n",
    "month=int(input('请输入月份: '))\n",
    "day=int(input('请输入天数: '))\n",
    "zele(year,month,day)"
   ]
  },
  {
   "cell_type": "markdown",
   "metadata": {},
   "source": [
    "10题"
   ]
  },
  {
   "cell_type": "code",
   "execution_count": 16,
   "metadata": {},
   "outputs": [
    {
     "name": "stdout",
     "output_type": "stream",
     "text": [
      "The Card you picked is the红桃Queen\n"
     ]
    }
   ],
   "source": [
    "import random\n",
    "def card():\n",
    "    shu=random.choice(['Ace','2','3','4','5','6','7','8','9','jack','Queen','king'])\n",
    "    se=random.choice(['梅花','红桃','方块','黑桃'])\n",
    "    return print('The Card you picked is the'+se+shu)\n",
    "card()"
   ]
  },
  {
   "cell_type": "markdown",
   "metadata": {},
   "source": [
    "11题"
   ]
  },
  {
   "cell_type": "code",
   "execution_count": 17,
   "metadata": {},
   "outputs": [
    {
     "name": "stdout",
     "output_type": "stream",
     "text": [
      "请输入一个三位数： 121\n",
      "121 为回文数\n"
     ]
    }
   ],
   "source": [
    "def Palindrome_number(num):\n",
    "    a=int(num/10/10)\n",
    "    b=int(num/10%10)\n",
    "    c=num%10\n",
    "    if a==c:\n",
    "        return print('%d 为回文数' %(num))\n",
    "    else:\n",
    "        return print('%d 不是回文数' %(num))\n",
    "num = int(input('请输入一个三位数： '))\n",
    "Palindrome_number(num)"
   ]
  },
  {
   "cell_type": "markdown",
   "metadata": {},
   "source": [
    "12题"
   ]
  },
  {
   "cell_type": "code",
   "execution_count": 18,
   "metadata": {},
   "outputs": [
    {
     "name": "stdout",
     "output_type": "stream",
     "text": [
      "输入三边长： 3 4 5\n",
      "周长为12 \n"
     ]
    }
   ],
   "source": [
    "def Triangle(x,y,z):\n",
    "    if x+y>z or x+z>y or y+z>x:\n",
    "        return print('周长为%d '%(x+y+z))\n",
    "    else:\n",
    "        return print('输入的边长构不成三角形')\n",
    "a,b,c=map(int,input('输入三边长： ').split())\n",
    "Triangle(a,b,c)"
   ]
  }
 ],
 "metadata": {
  "kernelspec": {
   "display_name": "Python 3",
   "language": "python",
   "name": "python3"
  },
  "language_info": {
   "codemirror_mode": {
    "name": "ipython",
    "version": 3
   },
   "file_extension": ".py",
   "mimetype": "text/x-python",
   "name": "python",
   "nbconvert_exporter": "python",
   "pygments_lexer": "ipython3",
   "version": "3.7.3"
  }
 },
 "nbformat": 4,
 "nbformat_minor": 2
}
